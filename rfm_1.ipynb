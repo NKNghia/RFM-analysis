{
 "cells": [
  {
   "cell_type": "markdown",
   "metadata": {},
   "source": [
    "## Tổng quan về dữ liệu"
   ]
  },
  {
   "cell_type": "code",
   "execution_count": 1,
   "metadata": {},
   "outputs": [
    {
     "name": "stdout",
     "output_type": "stream",
     "text": [
      "(41799, 6)\n"
     ]
    },
    {
     "data": {
      "text/html": [
       "<div>\n",
       "<style scoped>\n",
       "    .dataframe tbody tr th:only-of-type {\n",
       "        vertical-align: middle;\n",
       "    }\n",
       "\n",
       "    .dataframe tbody tr th {\n",
       "        vertical-align: top;\n",
       "    }\n",
       "\n",
       "    .dataframe thead th {\n",
       "        text-align: right;\n",
       "    }\n",
       "</style>\n",
       "<table border=\"1\" class=\"dataframe\">\n",
       "  <thead>\n",
       "    <tr style=\"text-align: right;\">\n",
       "      <th></th>\n",
       "      <th>PRODUCT_CATE</th>\n",
       "      <th>PROVINCE</th>\n",
       "      <th>ORDER_COST</th>\n",
       "      <th>ORDER_DATE</th>\n",
       "      <th>ORDER_ID</th>\n",
       "      <th>CUST_ID</th>\n",
       "    </tr>\n",
       "  </thead>\n",
       "  <tbody>\n",
       "    <tr>\n",
       "      <th>0</th>\n",
       "      <td>ĐIỆN MÁY &amp; CÔNG NGHỆ</td>\n",
       "      <td>Hồ Chí Minh</td>\n",
       "      <td>20780000</td>\n",
       "      <td>2018-07-22 15:47:00</td>\n",
       "      <td>KHA35965</td>\n",
       "      <td>CUS0000000</td>\n",
       "    </tr>\n",
       "    <tr>\n",
       "      <th>1</th>\n",
       "      <td>ĐIỆN MÁY &amp; CÔNG NGHỆ</td>\n",
       "      <td>Hà Nội</td>\n",
       "      <td>50000</td>\n",
       "      <td>2018-08-05 20:21:29</td>\n",
       "      <td>KHA04585</td>\n",
       "      <td>CUS0000001</td>\n",
       "    </tr>\n",
       "    <tr>\n",
       "      <th>2</th>\n",
       "      <td>THỰC PHẨM</td>\n",
       "      <td>Hồ Chí Minh</td>\n",
       "      <td>955000</td>\n",
       "      <td>2018-07-14 09:33:05</td>\n",
       "      <td>KHA75581</td>\n",
       "      <td>CUS0000002</td>\n",
       "    </tr>\n",
       "    <tr>\n",
       "      <th>3</th>\n",
       "      <td>SỨC KHỎE &amp; SẮC ĐẸP</td>\n",
       "      <td>Hồ Chí Minh</td>\n",
       "      <td>152000</td>\n",
       "      <td>2018-07-14 06:59:24</td>\n",
       "      <td>KHA75580</td>\n",
       "      <td>CUS0000002</td>\n",
       "    </tr>\n",
       "    <tr>\n",
       "      <th>4</th>\n",
       "      <td>THỰC PHẨM</td>\n",
       "      <td>Hà Nội</td>\n",
       "      <td>460162</td>\n",
       "      <td>2018-07-09 15:17:10</td>\n",
       "      <td>KHA62856</td>\n",
       "      <td>CUS0000003</td>\n",
       "    </tr>\n",
       "  </tbody>\n",
       "</table>\n",
       "</div>"
      ],
      "text/plain": [
       "           PRODUCT_CATE     PROVINCE  ORDER_COST          ORDER_DATE  \\\n",
       "0  ĐIỆN MÁY & CÔNG NGHỆ  Hồ Chí Minh    20780000 2018-07-22 15:47:00   \n",
       "1  ĐIỆN MÁY & CÔNG NGHỆ       Hà Nội       50000 2018-08-05 20:21:29   \n",
       "2             THỰC PHẨM  Hồ Chí Minh      955000 2018-07-14 09:33:05   \n",
       "3    SỨC KHỎE & SẮC ĐẸP  Hồ Chí Minh      152000 2018-07-14 06:59:24   \n",
       "4             THỰC PHẨM       Hà Nội      460162 2018-07-09 15:17:10   \n",
       "\n",
       "   ORDER_ID     CUST_ID  \n",
       "0  KHA35965  CUS0000000  \n",
       "1  KHA04585  CUS0000001  \n",
       "2  KHA75581  CUS0000002  \n",
       "3  KHA75580  CUS0000002  \n",
       "4  KHA62856  CUS0000003  "
      ]
     },
     "execution_count": 1,
     "metadata": {},
     "output_type": "execute_result"
    }
   ],
   "source": [
    "import pandas as pd\n",
    "\n",
    "dataset = pd.read_excel('rfm.xlsx', header = 0, index_col = 0)\n",
    "print(dataset.shape)\n",
    "dataset.head()"
   ]
  },
  {
   "cell_type": "code",
   "execution_count": 2,
   "metadata": {},
   "outputs": [
    {
     "data": {
      "text/plain": [
       "PRODUCT_CATE            object\n",
       "PROVINCE                object\n",
       "ORDER_COST               int64\n",
       "ORDER_DATE      datetime64[ns]\n",
       "ORDER_ID                object\n",
       "CUST_ID                 object\n",
       "dtype: object"
      ]
     },
     "execution_count": 2,
     "metadata": {},
     "output_type": "execute_result"
    }
   ],
   "source": [
    "dataset.dtypes"
   ]
  },
  {
   "cell_type": "code",
   "execution_count": 3,
   "metadata": {},
   "outputs": [
    {
     "name": "stdout",
     "output_type": "stream",
     "text": [
      "<class 'pandas.core.frame.DataFrame'>\n",
      "Int64Index: 41799 entries, 0 to 41798\n",
      "Data columns (total 6 columns):\n",
      " #   Column        Non-Null Count  Dtype         \n",
      "---  ------        --------------  -----         \n",
      " 0   PRODUCT_CATE  41799 non-null  object        \n",
      " 1   PROVINCE      41799 non-null  object        \n",
      " 2   ORDER_COST    41799 non-null  int64         \n",
      " 3   ORDER_DATE    41799 non-null  datetime64[ns]\n",
      " 4   ORDER_ID      41799 non-null  object        \n",
      " 5   CUST_ID       41799 non-null  object        \n",
      "dtypes: datetime64[ns](1), int64(1), object(4)\n",
      "memory usage: 2.2+ MB\n"
     ]
    }
   ],
   "source": [
    "dataset.info()"
   ]
  },
  {
   "cell_type": "code",
   "execution_count": 4,
   "metadata": {},
   "outputs": [
    {
     "data": {
      "text/plain": [
       "PRODUCT_CATE    41799\n",
       "PROVINCE        41799\n",
       "ORDER_COST      41799\n",
       "ORDER_DATE      41799\n",
       "ORDER_ID        41799\n",
       "CUST_ID         41799\n",
       "dtype: int64"
      ]
     },
     "execution_count": 4,
     "metadata": {},
     "output_type": "execute_result"
    }
   ],
   "source": [
    "dataset.count()"
   ]
  },
  {
   "cell_type": "code",
   "execution_count": 5,
   "metadata": {},
   "outputs": [
    {
     "data": {
      "text/plain": [
       "1     50000\n",
       "2    955000\n",
       "Name: ORDER_COST, dtype: int64"
      ]
     },
     "execution_count": 5,
     "metadata": {},
     "output_type": "execute_result"
    }
   ],
   "source": [
    "dataset.loc[[1, 2]]['ORDER_COST']"
   ]
  },
  {
   "cell_type": "code",
   "execution_count": 6,
   "metadata": {},
   "outputs": [
    {
     "data": {
      "text/plain": [
       "Index(['PRODUCT_CATE', 'PROVINCE', 'ORDER_COST', 'ORDER_DATE', 'ORDER_ID',\n",
       "       'CUST_ID'],\n",
       "      dtype='object')"
      ]
     },
     "execution_count": 6,
     "metadata": {},
     "output_type": "execute_result"
    }
   ],
   "source": [
    "dataset.columns"
   ]
  },
  {
   "cell_type": "markdown",
   "metadata": {},
   "source": [
    "### Tiền xử lý dữ liệu & EDA"
   ]
  },
  {
   "cell_type": "code",
   "execution_count": 7,
   "metadata": {},
   "outputs": [],
   "source": [
    "import numpy as np"
   ]
  },
  {
   "cell_type": "code",
   "execution_count": 8,
   "metadata": {},
   "outputs": [
    {
     "name": "stdout",
     "output_type": "stream",
     "text": [
      "PRODUCT_CATE            object\n",
      "PROVINCE                object\n",
      "ORDER_COST               int64\n",
      "ORDER_DATE      datetime64[ns]\n",
      "ORDER_ID                object\n",
      "CUST_ID                 object\n",
      "dtype: object\n"
     ]
    },
    {
     "name": "stderr",
     "output_type": "stream",
     "text": [
      "C:\\Users\\Nghia\\AppData\\Local\\Temp\\ipykernel_7104\\3385857683.py:4: DeprecationWarning: `np.float` is a deprecated alias for the builtin `float`. To silence this warning, use `float` by itself. Doing this will not modify any behavior and is safe. If you specifically wanted the numpy scalar type, use `np.float64` here.\n",
      "Deprecated in NumPy 1.20; for more details and guidance: https://numpy.org/devdocs/release/1.20.0-notes.html#deprecations\n",
      "  return np.float(x)\n"
     ]
    },
    {
     "data": {
      "text/plain": [
       "PRODUCT_CATE            object\n",
       "PROVINCE                object\n",
       "ORDER_COST             float64\n",
       "ORDER_DATE      datetime64[ns]\n",
       "ORDER_ID                object\n",
       "CUST_ID                 object\n",
       "dtype: object"
      ]
     },
     "execution_count": 8,
     "metadata": {},
     "output_type": "execute_result"
    }
   ],
   "source": [
    "from datetime import datetime\n",
    "\n",
    "def strToFloat(x):\n",
    "    return np.float(x)\n",
    "\n",
    "def strToDatetime(x):\n",
    "    return datetime.strptime(str(x), '%Y-%m-%d %H:%M:%S')\n",
    "\n",
    "# Kiểm tra định dạng các trường của pandas dataframe\n",
    "print(dataset.dtypes)\n",
    "\n",
    "# Convert dữ liệu về đúng định dạng\n",
    "dataset['ORDER_COST'] = dataset['ORDER_COST'].apply(strToFloat)\n",
    "dataset['ORDER_DATE'] = dataset['ORDER_DATE'].apply(strToDatetime)\n",
    "dataset.dtypes"
   ]
  },
  {
   "cell_type": "code",
   "execution_count": 9,
   "metadata": {},
   "outputs": [
    {
     "data": {
      "text/html": [
       "<div>\n",
       "<style scoped>\n",
       "    .dataframe tbody tr th:only-of-type {\n",
       "        vertical-align: middle;\n",
       "    }\n",
       "\n",
       "    .dataframe tbody tr th {\n",
       "        vertical-align: top;\n",
       "    }\n",
       "\n",
       "    .dataframe thead th {\n",
       "        text-align: right;\n",
       "    }\n",
       "</style>\n",
       "<table border=\"1\" class=\"dataframe\">\n",
       "  <thead>\n",
       "    <tr style=\"text-align: right;\">\n",
       "      <th></th>\n",
       "      <th>ORDER_COST</th>\n",
       "    </tr>\n",
       "  </thead>\n",
       "  <tbody>\n",
       "    <tr>\n",
       "      <th>count</th>\n",
       "      <td>4.179900e+04</td>\n",
       "    </tr>\n",
       "    <tr>\n",
       "      <th>mean</th>\n",
       "      <td>4.529086e+06</td>\n",
       "    </tr>\n",
       "    <tr>\n",
       "      <th>std</th>\n",
       "      <td>2.242546e+07</td>\n",
       "    </tr>\n",
       "    <tr>\n",
       "      <th>min</th>\n",
       "      <td>0.000000e+00</td>\n",
       "    </tr>\n",
       "    <tr>\n",
       "      <th>25%</th>\n",
       "      <td>2.541500e+05</td>\n",
       "    </tr>\n",
       "    <tr>\n",
       "      <th>50%</th>\n",
       "      <td>6.380000e+05</td>\n",
       "    </tr>\n",
       "    <tr>\n",
       "      <th>75%</th>\n",
       "      <td>2.055500e+06</td>\n",
       "    </tr>\n",
       "    <tr>\n",
       "      <th>max</th>\n",
       "      <td>2.141220e+09</td>\n",
       "    </tr>\n",
       "  </tbody>\n",
       "</table>\n",
       "</div>"
      ],
      "text/plain": [
       "         ORDER_COST\n",
       "count  4.179900e+04\n",
       "mean   4.529086e+06\n",
       "std    2.242546e+07\n",
       "min    0.000000e+00\n",
       "25%    2.541500e+05\n",
       "50%    6.380000e+05\n",
       "75%    2.055500e+06\n",
       "max    2.141220e+09"
      ]
     },
     "execution_count": 9,
     "metadata": {},
     "output_type": "execute_result"
    }
   ],
   "source": [
    "dataset.describe()"
   ]
  },
  {
   "cell_type": "code",
   "execution_count": 10,
   "metadata": {},
   "outputs": [
    {
     "name": "stdout",
     "output_type": "stream",
     "text": [
      "(34235, 9)\n"
     ]
    },
    {
     "data": {
      "text/html": [
       "<div>\n",
       "<style scoped>\n",
       "    .dataframe tbody tr th:only-of-type {\n",
       "        vertical-align: middle;\n",
       "    }\n",
       "\n",
       "    .dataframe tbody tr th {\n",
       "        vertical-align: top;\n",
       "    }\n",
       "\n",
       "    .dataframe thead tr th {\n",
       "        text-align: left;\n",
       "    }\n",
       "\n",
       "    .dataframe thead tr:last-of-type th {\n",
       "        text-align: right;\n",
       "    }\n",
       "</style>\n",
       "<table border=\"1\" class=\"dataframe\">\n",
       "  <thead>\n",
       "    <tr>\n",
       "      <th></th>\n",
       "      <th colspan=\"9\" halign=\"left\">ORDER_COST</th>\n",
       "    </tr>\n",
       "    <tr>\n",
       "      <th>PRODUCT_CATE</th>\n",
       "      <th>MẸ &amp; BÉ</th>\n",
       "      <th>NHÀ CỬA &amp; ĐỜI SỐNG</th>\n",
       "      <th>Sách, VPP &amp; Âm nhạc</th>\n",
       "      <th>SỨC KHỎE &amp; SẮC ĐẸP</th>\n",
       "      <th>THỜI TRANG</th>\n",
       "      <th>THỰC PHẨM</th>\n",
       "      <th>Voucher dịch vụ</th>\n",
       "      <th>Vé máy bay – Dịch vụ đặt chỗ</th>\n",
       "      <th>ĐIỆN MÁY &amp; CÔNG NGHỆ</th>\n",
       "    </tr>\n",
       "    <tr>\n",
       "      <th>CUST_ID</th>\n",
       "      <th></th>\n",
       "      <th></th>\n",
       "      <th></th>\n",
       "      <th></th>\n",
       "      <th></th>\n",
       "      <th></th>\n",
       "      <th></th>\n",
       "      <th></th>\n",
       "      <th></th>\n",
       "    </tr>\n",
       "  </thead>\n",
       "  <tbody>\n",
       "    <tr>\n",
       "      <th>CUS0000000</th>\n",
       "      <td>NaN</td>\n",
       "      <td>NaN</td>\n",
       "      <td>NaN</td>\n",
       "      <td>NaN</td>\n",
       "      <td>NaN</td>\n",
       "      <td>NaN</td>\n",
       "      <td>NaN</td>\n",
       "      <td>NaN</td>\n",
       "      <td>20780000.0</td>\n",
       "    </tr>\n",
       "    <tr>\n",
       "      <th>CUS0000001</th>\n",
       "      <td>NaN</td>\n",
       "      <td>NaN</td>\n",
       "      <td>NaN</td>\n",
       "      <td>NaN</td>\n",
       "      <td>NaN</td>\n",
       "      <td>NaN</td>\n",
       "      <td>NaN</td>\n",
       "      <td>NaN</td>\n",
       "      <td>50000.0</td>\n",
       "    </tr>\n",
       "    <tr>\n",
       "      <th>CUS0000002</th>\n",
       "      <td>NaN</td>\n",
       "      <td>NaN</td>\n",
       "      <td>NaN</td>\n",
       "      <td>152000.0</td>\n",
       "      <td>NaN</td>\n",
       "      <td>955000.0</td>\n",
       "      <td>NaN</td>\n",
       "      <td>NaN</td>\n",
       "      <td>NaN</td>\n",
       "    </tr>\n",
       "    <tr>\n",
       "      <th>CUS0000003</th>\n",
       "      <td>NaN</td>\n",
       "      <td>646512.0</td>\n",
       "      <td>NaN</td>\n",
       "      <td>822226.0</td>\n",
       "      <td>NaN</td>\n",
       "      <td>460162.0</td>\n",
       "      <td>NaN</td>\n",
       "      <td>NaN</td>\n",
       "      <td>NaN</td>\n",
       "    </tr>\n",
       "    <tr>\n",
       "      <th>CUS0000004</th>\n",
       "      <td>NaN</td>\n",
       "      <td>NaN</td>\n",
       "      <td>NaN</td>\n",
       "      <td>NaN</td>\n",
       "      <td>NaN</td>\n",
       "      <td>343000.0</td>\n",
       "      <td>NaN</td>\n",
       "      <td>NaN</td>\n",
       "      <td>NaN</td>\n",
       "    </tr>\n",
       "  </tbody>\n",
       "</table>\n",
       "</div>"
      ],
      "text/plain": [
       "             ORDER_COST                                         \\\n",
       "PRODUCT_CATE    MẸ & BÉ NHÀ CỬA & ĐỜI SỐNG Sách, VPP & Âm nhạc   \n",
       "CUST_ID                                                          \n",
       "CUS0000000          NaN                NaN                 NaN   \n",
       "CUS0000001          NaN                NaN                 NaN   \n",
       "CUS0000002          NaN                NaN                 NaN   \n",
       "CUS0000003          NaN           646512.0                 NaN   \n",
       "CUS0000004          NaN                NaN                 NaN   \n",
       "\n",
       "                                                                      \\\n",
       "PRODUCT_CATE SỨC KHỎE & SẮC ĐẸP THỜI TRANG THỰC PHẨM Voucher dịch vụ   \n",
       "CUST_ID                                                                \n",
       "CUS0000000                  NaN        NaN       NaN             NaN   \n",
       "CUS0000001                  NaN        NaN       NaN             NaN   \n",
       "CUS0000002             152000.0        NaN  955000.0             NaN   \n",
       "CUS0000003             822226.0        NaN  460162.0             NaN   \n",
       "CUS0000004                  NaN        NaN  343000.0             NaN   \n",
       "\n",
       "                                                                \n",
       "PRODUCT_CATE Vé máy bay – Dịch vụ đặt chỗ ĐIỆN MÁY & CÔNG NGHỆ  \n",
       "CUST_ID                                                         \n",
       "CUS0000000                            NaN           20780000.0  \n",
       "CUS0000001                            NaN              50000.0  \n",
       "CUS0000002                            NaN                  NaN  \n",
       "CUS0000003                            NaN                  NaN  \n",
       "CUS0000004                            NaN                  NaN  "
      ]
     },
     "execution_count": 10,
     "metadata": {},
     "output_type": "execute_result"
    }
   ],
   "source": [
    "df = dataset.copy()\n",
    "dfSummary = pd.pivot_table(data = dataset, \n",
    "                            values = ['ORDER_COST', 'ORDER_ID'],\n",
    "                            index = ['CUST_ID'],\n",
    "                            columns = ['PRODUCT_CATE'],\n",
    "                            aggfunc= {'ORDER_COST': np.sum}\n",
    "                          )\n",
    "\n",
    "print(dfSummary.shape)\n",
    "dfSummary.head()"
   ]
  },
  {
   "cell_type": "code",
   "execution_count": 11,
   "metadata": {},
   "outputs": [
    {
     "data": {
      "text/html": [
       "<div>\n",
       "<style scoped>\n",
       "    .dataframe tbody tr th:only-of-type {\n",
       "        vertical-align: middle;\n",
       "    }\n",
       "\n",
       "    .dataframe tbody tr th {\n",
       "        vertical-align: top;\n",
       "    }\n",
       "\n",
       "    .dataframe thead tr th {\n",
       "        text-align: left;\n",
       "    }\n",
       "\n",
       "    .dataframe thead tr:last-of-type th {\n",
       "        text-align: right;\n",
       "    }\n",
       "</style>\n",
       "<table border=\"1\" class=\"dataframe\">\n",
       "  <thead>\n",
       "    <tr>\n",
       "      <th></th>\n",
       "      <th></th>\n",
       "      <th colspan=\"9\" halign=\"left\">ORDER_COST</th>\n",
       "    </tr>\n",
       "    <tr>\n",
       "      <th></th>\n",
       "      <th>PRODUCT_CATE</th>\n",
       "      <th>MẸ &amp; BÉ</th>\n",
       "      <th>NHÀ CỬA &amp; ĐỜI SỐNG</th>\n",
       "      <th>Sách, VPP &amp; Âm nhạc</th>\n",
       "      <th>SỨC KHỎE &amp; SẮC ĐẸP</th>\n",
       "      <th>THỜI TRANG</th>\n",
       "      <th>THỰC PHẨM</th>\n",
       "      <th>Voucher dịch vụ</th>\n",
       "      <th>Vé máy bay – Dịch vụ đặt chỗ</th>\n",
       "      <th>ĐIỆN MÁY &amp; CÔNG NGHỆ</th>\n",
       "    </tr>\n",
       "    <tr>\n",
       "      <th></th>\n",
       "      <th>PRODUCT_CATE</th>\n",
       "      <th></th>\n",
       "      <th></th>\n",
       "      <th></th>\n",
       "      <th></th>\n",
       "      <th></th>\n",
       "      <th></th>\n",
       "      <th></th>\n",
       "      <th></th>\n",
       "      <th></th>\n",
       "    </tr>\n",
       "  </thead>\n",
       "  <tbody>\n",
       "    <tr>\n",
       "      <th rowspan=\"9\" valign=\"top\">ORDER_COST</th>\n",
       "      <th>MẸ &amp; BÉ</th>\n",
       "      <td>1.000000</td>\n",
       "      <td>0.024699</td>\n",
       "      <td>-0.078094</td>\n",
       "      <td>0.047757</td>\n",
       "      <td>0.183557</td>\n",
       "      <td>0.563683</td>\n",
       "      <td>0.004776</td>\n",
       "      <td>1.000000</td>\n",
       "      <td>0.006306</td>\n",
       "    </tr>\n",
       "    <tr>\n",
       "      <th>NHÀ CỬA &amp; ĐỜI SỐNG</th>\n",
       "      <td>0.024699</td>\n",
       "      <td>1.000000</td>\n",
       "      <td>-0.027755</td>\n",
       "      <td>0.052509</td>\n",
       "      <td>-0.023583</td>\n",
       "      <td>0.022838</td>\n",
       "      <td>-0.016649</td>\n",
       "      <td>-0.588440</td>\n",
       "      <td>0.084717</td>\n",
       "    </tr>\n",
       "    <tr>\n",
       "      <th>Sách, VPP &amp; Âm nhạc</th>\n",
       "      <td>-0.078094</td>\n",
       "      <td>-0.027755</td>\n",
       "      <td>1.000000</td>\n",
       "      <td>-0.027598</td>\n",
       "      <td>0.050589</td>\n",
       "      <td>0.042501</td>\n",
       "      <td>-0.030311</td>\n",
       "      <td>NaN</td>\n",
       "      <td>-0.006463</td>\n",
       "    </tr>\n",
       "    <tr>\n",
       "      <th>SỨC KHỎE &amp; SẮC ĐẸP</th>\n",
       "      <td>0.047757</td>\n",
       "      <td>0.052509</td>\n",
       "      <td>-0.027598</td>\n",
       "      <td>1.000000</td>\n",
       "      <td>0.012881</td>\n",
       "      <td>0.105183</td>\n",
       "      <td>0.036710</td>\n",
       "      <td>0.671943</td>\n",
       "      <td>0.527815</td>\n",
       "    </tr>\n",
       "    <tr>\n",
       "      <th>THỜI TRANG</th>\n",
       "      <td>0.183557</td>\n",
       "      <td>-0.023583</td>\n",
       "      <td>0.050589</td>\n",
       "      <td>0.012881</td>\n",
       "      <td>1.000000</td>\n",
       "      <td>0.087304</td>\n",
       "      <td>0.084177</td>\n",
       "      <td>0.863456</td>\n",
       "      <td>0.047517</td>\n",
       "    </tr>\n",
       "    <tr>\n",
       "      <th>THỰC PHẨM</th>\n",
       "      <td>0.563683</td>\n",
       "      <td>0.022838</td>\n",
       "      <td>0.042501</td>\n",
       "      <td>0.105183</td>\n",
       "      <td>0.087304</td>\n",
       "      <td>1.000000</td>\n",
       "      <td>0.029134</td>\n",
       "      <td>-0.827178</td>\n",
       "      <td>0.042683</td>\n",
       "    </tr>\n",
       "    <tr>\n",
       "      <th>Voucher dịch vụ</th>\n",
       "      <td>0.004776</td>\n",
       "      <td>-0.016649</td>\n",
       "      <td>-0.030311</td>\n",
       "      <td>0.036710</td>\n",
       "      <td>0.084177</td>\n",
       "      <td>0.029134</td>\n",
       "      <td>1.000000</td>\n",
       "      <td>-0.289218</td>\n",
       "      <td>0.053229</td>\n",
       "    </tr>\n",
       "    <tr>\n",
       "      <th>Vé máy bay – Dịch vụ đặt chỗ</th>\n",
       "      <td>1.000000</td>\n",
       "      <td>-0.588440</td>\n",
       "      <td>NaN</td>\n",
       "      <td>0.671943</td>\n",
       "      <td>0.863456</td>\n",
       "      <td>-0.827178</td>\n",
       "      <td>-0.289218</td>\n",
       "      <td>1.000000</td>\n",
       "      <td>-0.685240</td>\n",
       "    </tr>\n",
       "    <tr>\n",
       "      <th>ĐIỆN MÁY &amp; CÔNG NGHỆ</th>\n",
       "      <td>0.006306</td>\n",
       "      <td>0.084717</td>\n",
       "      <td>-0.006463</td>\n",
       "      <td>0.527815</td>\n",
       "      <td>0.047517</td>\n",
       "      <td>0.042683</td>\n",
       "      <td>0.053229</td>\n",
       "      <td>-0.685240</td>\n",
       "      <td>1.000000</td>\n",
       "    </tr>\n",
       "  </tbody>\n",
       "</table>\n",
       "</div>"
      ],
      "text/plain": [
       "                                        ORDER_COST                     \\\n",
       "PRODUCT_CATE                               MẸ & BÉ NHÀ CỬA & ĐỜI SỐNG   \n",
       "           PRODUCT_CATE                                                 \n",
       "ORDER_COST MẸ & BÉ                        1.000000           0.024699   \n",
       "           NHÀ CỬA & ĐỜI SỐNG             0.024699           1.000000   \n",
       "           Sách, VPP & Âm nhạc           -0.078094          -0.027755   \n",
       "           SỨC KHỎE & SẮC ĐẸP             0.047757           0.052509   \n",
       "           THỜI TRANG                     0.183557          -0.023583   \n",
       "           THỰC PHẨM                      0.563683           0.022838   \n",
       "           Voucher dịch vụ                0.004776          -0.016649   \n",
       "           Vé máy bay – Dịch vụ đặt chỗ   1.000000          -0.588440   \n",
       "           ĐIỆN MÁY & CÔNG NGHỆ           0.006306           0.084717   \n",
       "\n",
       "                                                             \\\n",
       "PRODUCT_CATE                            Sách, VPP & Âm nhạc   \n",
       "           PRODUCT_CATE                                       \n",
       "ORDER_COST MẸ & BÉ                                -0.078094   \n",
       "           NHÀ CỬA & ĐỜI SỐNG                     -0.027755   \n",
       "           Sách, VPP & Âm nhạc                     1.000000   \n",
       "           SỨC KHỎE & SẮC ĐẸP                     -0.027598   \n",
       "           THỜI TRANG                              0.050589   \n",
       "           THỰC PHẨM                               0.042501   \n",
       "           Voucher dịch vụ                        -0.030311   \n",
       "           Vé máy bay – Dịch vụ đặt chỗ                 NaN   \n",
       "           ĐIỆN MÁY & CÔNG NGHỆ                   -0.006463   \n",
       "\n",
       "                                                                       \\\n",
       "PRODUCT_CATE                            SỨC KHỎE & SẮC ĐẸP THỜI TRANG   \n",
       "           PRODUCT_CATE                                                 \n",
       "ORDER_COST MẸ & BÉ                                0.047757   0.183557   \n",
       "           NHÀ CỬA & ĐỜI SỐNG                     0.052509  -0.023583   \n",
       "           Sách, VPP & Âm nhạc                   -0.027598   0.050589   \n",
       "           SỨC KHỎE & SẮC ĐẸP                     1.000000   0.012881   \n",
       "           THỜI TRANG                             0.012881   1.000000   \n",
       "           THỰC PHẨM                              0.105183   0.087304   \n",
       "           Voucher dịch vụ                        0.036710   0.084177   \n",
       "           Vé máy bay – Dịch vụ đặt chỗ           0.671943   0.863456   \n",
       "           ĐIỆN MÁY & CÔNG NGHỆ                   0.527815   0.047517   \n",
       "\n",
       "                                                                   \\\n",
       "PRODUCT_CATE                            THỰC PHẨM Voucher dịch vụ   \n",
       "           PRODUCT_CATE                                             \n",
       "ORDER_COST MẸ & BÉ                       0.563683        0.004776   \n",
       "           NHÀ CỬA & ĐỜI SỐNG            0.022838       -0.016649   \n",
       "           Sách, VPP & Âm nhạc           0.042501       -0.030311   \n",
       "           SỨC KHỎE & SẮC ĐẸP            0.105183        0.036710   \n",
       "           THỜI TRANG                    0.087304        0.084177   \n",
       "           THỰC PHẨM                     1.000000        0.029134   \n",
       "           Voucher dịch vụ               0.029134        1.000000   \n",
       "           Vé máy bay – Dịch vụ đặt chỗ -0.827178       -0.289218   \n",
       "           ĐIỆN MÁY & CÔNG NGHỆ          0.042683        0.053229   \n",
       "\n",
       "                                                                      \\\n",
       "PRODUCT_CATE                            Vé máy bay – Dịch vụ đặt chỗ   \n",
       "           PRODUCT_CATE                                                \n",
       "ORDER_COST MẸ & BÉ                                          1.000000   \n",
       "           NHÀ CỬA & ĐỜI SỐNG                              -0.588440   \n",
       "           Sách, VPP & Âm nhạc                                   NaN   \n",
       "           SỨC KHỎE & SẮC ĐẸP                               0.671943   \n",
       "           THỜI TRANG                                       0.863456   \n",
       "           THỰC PHẨM                                       -0.827178   \n",
       "           Voucher dịch vụ                                 -0.289218   \n",
       "           Vé máy bay – Dịch vụ đặt chỗ                     1.000000   \n",
       "           ĐIỆN MÁY & CÔNG NGHỆ                            -0.685240   \n",
       "\n",
       "                                                              \n",
       "PRODUCT_CATE                            ĐIỆN MÁY & CÔNG NGHỆ  \n",
       "           PRODUCT_CATE                                       \n",
       "ORDER_COST MẸ & BÉ                                  0.006306  \n",
       "           NHÀ CỬA & ĐỜI SỐNG                       0.084717  \n",
       "           Sách, VPP & Âm nhạc                     -0.006463  \n",
       "           SỨC KHỎE & SẮC ĐẸP                       0.527815  \n",
       "           THỜI TRANG                               0.047517  \n",
       "           THỰC PHẨM                                0.042683  \n",
       "           Voucher dịch vụ                          0.053229  \n",
       "           Vé máy bay – Dịch vụ đặt chỗ            -0.685240  \n",
       "           ĐIỆN MÁY & CÔNG NGHỆ                     1.000000  "
      ]
     },
     "execution_count": 11,
     "metadata": {},
     "output_type": "execute_result"
    },
    {
     "data": {
      "image/png": "[encoded data removed]",
      "text/plain": [
       "<Figure size 720x720 with 2 Axes>"
      ]
     },
     "metadata": {
      "needs_background": "light"
     },
     "output_type": "display_data"
    }
   ],
   "source": [
    "#plot corr\n",
    "import matplotlib.pyplot as plt\n",
    "%matplotlib inline\n",
    "\n",
    "\n",
    "def plot_corr(df,size=10):\n",
    "\n",
    "    corr = df.corr()\n",
    "    fig, ax = plt.subplots(figsize=(size, size))\n",
    "    cax = ax.matshow(df, interpolation='nearest')\n",
    "    ax.matshow(corr)\n",
    "    fig.colorbar(cax)\n",
    "    plt.xticks(range(len(corr.columns)), corr.columns);\n",
    "    plt.yticks(range(len(corr.columns)), corr.columns);\n",
    "\n",
    "\n",
    "plot_corr(dfSummary)\n",
    "dfSummary.corr()"
   ]
  },
  {
   "cell_type": "markdown",
   "metadata": {},
   "source": [
    "### Xây dựng chỉ số RFM"
   ]
  },
  {
   "cell_type": "code",
   "execution_count": 12,
   "metadata": {},
   "outputs": [
    {
     "data": {
      "text/plain": [
       "0       2018-07-22 15:47:00\n",
       "1       2018-08-05 20:21:29\n",
       "2       2018-07-14 09:33:05\n",
       "3       2018-07-14 06:59:24\n",
       "4       2018-07-09 15:17:10\n",
       "                ...        \n",
       "41794   2018-08-11 11:21:36\n",
       "41795   2018-07-18 07:08:06\n",
       "41796   2018-07-10 13:16:37\n",
       "41797   2018-08-11 15:19:47\n",
       "41798   2018-07-06 12:36:42\n",
       "Name: ORDER_DATE, Length: 41799, dtype: datetime64[ns]"
      ]
     },
     "execution_count": 12,
     "metadata": {},
     "output_type": "execute_result"
    }
   ],
   "source": [
    "dataset.ORDER_DATE"
   ]
  },
  {
   "cell_type": "code",
   "execution_count": 13,
   "metadata": {},
   "outputs": [],
   "source": [
    "from datetime import datetime\n",
    "\n",
    "dfRecentOrder = pd.pivot_table(data = dataset, \n",
    "               index = ['CUST_ID'],\n",
    "               values = ['ORDER_DATE'],\n",
    "               aggfunc = {'ORDER_DATE':max}\n",
    "              )\n",
    "\n",
    "dfRecentOrder.columns = ['RecentOrderDate']\n",
    "df = pd.merge(dataset, dfRecentOrder.reset_index(), on = ['CUST_ID'])\n",
    "df['RecentOrderDate'] = df['RecentOrderDate'].apply(lambda x: datetime.strptime(str(x), '%Y-%m-%d %H:%M:%S'))\n",
    "df['Recency'] = df['RecentOrderDate'].apply(lambda x: (datetime.now() - x).days)"
   ]
  },
  {
   "cell_type": "code",
   "execution_count": 14,
   "metadata": {},
   "outputs": [],
   "source": [
    "dfFrequency = df.groupby('CUST_ID').ORDER_ID.nunique().to_frame()\n",
    "dfFrequency.columns = ['Frequency']\n",
    "df = pd.merge(df, dfFrequency.reset_index(), on = 'CUST_ID')"
   ]
  },
  {
   "cell_type": "code",
   "execution_count": 15,
   "metadata": {},
   "outputs": [],
   "source": [
    "dfMonetary = df.groupby('CUST_ID').ORDER_COST.sum().to_frame()\n",
    "dfMonetary.columns = ['Monetary']\n",
    "df = pd.merge(df, dfMonetary.reset_index(), on = 'CUST_ID')"
   ]
  },
  {
   "cell_type": "code",
   "execution_count": 16,
   "metadata": {},
   "outputs": [
    {
     "data": {
      "text/html": [
       "<div>\n",
       "<style scoped>\n",
       "    .dataframe tbody tr th:only-of-type {\n",
       "        vertical-align: middle;\n",
       "    }\n",
       "\n",
       "    .dataframe tbody tr th {\n",
       "        vertical-align: top;\n",
       "    }\n",
       "\n",
       "    .dataframe thead th {\n",
       "        text-align: right;\n",
       "    }\n",
       "</style>\n",
       "<table border=\"1\" class=\"dataframe\">\n",
       "  <thead>\n",
       "    <tr style=\"text-align: right;\">\n",
       "      <th></th>\n",
       "      <th>Recency</th>\n",
       "      <th>Frequency</th>\n",
       "      <th>Monetary</th>\n",
       "    </tr>\n",
       "  </thead>\n",
       "  <tbody>\n",
       "    <tr>\n",
       "      <th>0</th>\n",
       "      <td>8.003559e+31</td>\n",
       "      <td>0.000000</td>\n",
       "      <td>274.925600</td>\n",
       "    </tr>\n",
       "    <tr>\n",
       "      <th>1</th>\n",
       "      <td>7.175059e+31</td>\n",
       "      <td>0.000000</td>\n",
       "      <td>36.840315</td>\n",
       "    </tr>\n",
       "    <tr>\n",
       "      <th>2</th>\n",
       "      <td>8.580907e+31</td>\n",
       "      <td>0.317180</td>\n",
       "      <td>103.446517</td>\n",
       "    </tr>\n",
       "    <tr>\n",
       "      <th>3</th>\n",
       "      <td>8.580907e+31</td>\n",
       "      <td>0.317180</td>\n",
       "      <td>103.446517</td>\n",
       "    </tr>\n",
       "    <tr>\n",
       "      <th>4</th>\n",
       "      <td>8.849395e+31</td>\n",
       "      <td>0.356746</td>\n",
       "      <td>124.481048</td>\n",
       "    </tr>\n",
       "    <tr>\n",
       "      <th>5</th>\n",
       "      <td>8.849395e+31</td>\n",
       "      <td>0.356746</td>\n",
       "      <td>124.481048</td>\n",
       "    </tr>\n",
       "    <tr>\n",
       "      <th>6</th>\n",
       "      <td>8.849395e+31</td>\n",
       "      <td>0.356746</td>\n",
       "      <td>124.481048</td>\n",
       "    </tr>\n",
       "    <tr>\n",
       "      <th>7</th>\n",
       "      <td>7.403468e+31</td>\n",
       "      <td>0.000000</td>\n",
       "      <td>70.000000</td>\n",
       "    </tr>\n",
       "    <tr>\n",
       "      <th>8</th>\n",
       "      <td>8.449446e+31</td>\n",
       "      <td>0.000000</td>\n",
       "      <td>332.620700</td>\n",
       "    </tr>\n",
       "    <tr>\n",
       "      <th>9</th>\n",
       "      <td>9.195687e+31</td>\n",
       "      <td>0.000000</td>\n",
       "      <td>57.798947</td>\n",
       "    </tr>\n",
       "  </tbody>\n",
       "</table>\n",
       "</div>"
      ],
      "text/plain": [
       "        Recency  Frequency    Monetary\n",
       "0  8.003559e+31   0.000000  274.925600\n",
       "1  7.175059e+31   0.000000   36.840315\n",
       "2  8.580907e+31   0.317180  103.446517\n",
       "3  8.580907e+31   0.317180  103.446517\n",
       "4  8.849395e+31   0.356746  124.481048\n",
       "5  8.849395e+31   0.356746  124.481048\n",
       "6  8.849395e+31   0.356746  124.481048\n",
       "7  7.403468e+31   0.000000   70.000000\n",
       "8  8.449446e+31   0.000000  332.620700\n",
       "9  9.195687e+31   0.000000   57.798947"
      ]
     },
     "execution_count": 16,
     "metadata": {},
     "output_type": "execute_result"
    }
   ],
   "source": [
    "from scipy import stats\n",
    "df_customers_t = pd.DataFrame()\n",
    "df_customers_t['Recency'] = stats.boxcox(df['Recency'])[0]\n",
    "df_customers_t['Frequency'] = stats.boxcox(df['Frequency'])[0]\n",
    "df_customers_t['Monetary'] = pd.Series(np.cbrt(df['Monetary'])).values\n",
    "df_customers_t.head(10)"
   ]
  },
  {
   "cell_type": "code",
   "execution_count": 17,
   "metadata": {},
   "outputs": [
    {
     "data": {
      "text/plain": [
       "0        4.333333\n",
       "1        0.333333\n",
       "2        5.666667\n",
       "3        5.666667\n",
       "4        7.000000\n",
       "           ...   \n",
       "41794    3.333333\n",
       "41795    4.666667\n",
       "41796    6.000000\n",
       "41797    4.666667\n",
       "41798    4.666667\n",
       "Name: rank, Length: 41799, dtype: float64"
      ]
     },
     "execution_count": 17,
     "metadata": {},
     "output_type": "execute_result"
    }
   ],
   "source": [
    "orderFrequencies = df['Frequency'].rank(method='first')\n",
    "df['rFrequency'] = pd.qcut(orderFrequencies, 10, labels = False)\n",
    "df[['rRecency', 'rMonetary']] = df[['Recency', 'Monetary']].apply(lambda x: pd.qcut(x, 10, labels = False))\n",
    "df['rank'] = (df['rFrequency'] + df['rRecency'] + df['rMonetary'])/3\n",
    "df['FinalRank'] = df['rank'].apply(int)\n",
    "df['rank']"
   ]
  },
  {
   "cell_type": "code",
   "execution_count": 18,
   "metadata": {},
   "outputs": [
    {
     "data": {
      "text/html": [
       "<div>\n",
       "<style scoped>\n",
       "    .dataframe tbody tr th:only-of-type {\n",
       "        vertical-align: middle;\n",
       "    }\n",
       "\n",
       "    .dataframe tbody tr th {\n",
       "        vertical-align: top;\n",
       "    }\n",
       "\n",
       "    .dataframe thead th {\n",
       "        text-align: right;\n",
       "    }\n",
       "</style>\n",
       "<table border=\"1\" class=\"dataframe\">\n",
       "  <thead>\n",
       "    <tr style=\"text-align: right;\">\n",
       "      <th></th>\n",
       "      <th>PRODUCT_CATE</th>\n",
       "      <th>PROVINCE</th>\n",
       "      <th>ORDER_COST</th>\n",
       "      <th>ORDER_DATE</th>\n",
       "      <th>ORDER_ID</th>\n",
       "      <th>CUST_ID</th>\n",
       "      <th>RecentOrderDate</th>\n",
       "      <th>Recency</th>\n",
       "      <th>Frequency</th>\n",
       "      <th>Monetary</th>\n",
       "      <th>rFrequency</th>\n",
       "      <th>rRecency</th>\n",
       "      <th>rMonetary</th>\n",
       "      <th>rank</th>\n",
       "      <th>FinalRank</th>\n",
       "      <th>Segment</th>\n",
       "    </tr>\n",
       "  </thead>\n",
       "  <tbody>\n",
       "    <tr>\n",
       "      <th>0</th>\n",
       "      <td>ĐIỆN MÁY &amp; CÔNG NGHỆ</td>\n",
       "      <td>Hồ Chí Minh</td>\n",
       "      <td>20780000.0</td>\n",
       "      <td>2018-07-22 15:47:00</td>\n",
       "      <td>KHA35965</td>\n",
       "      <td>CUS0000000</td>\n",
       "      <td>2018-07-22 15:47:00</td>\n",
       "      <td>1354</td>\n",
       "      <td>1</td>\n",
       "      <td>20780000.0</td>\n",
       "      <td>0</td>\n",
       "      <td>4</td>\n",
       "      <td>9</td>\n",
       "      <td>4.333333</td>\n",
       "      <td>4</td>\n",
       "      <td>Normal</td>\n",
       "    </tr>\n",
       "    <tr>\n",
       "      <th>1</th>\n",
       "      <td>ĐIỆN MÁY &amp; CÔNG NGHỆ</td>\n",
       "      <td>Hà Nội</td>\n",
       "      <td>50000.0</td>\n",
       "      <td>2018-08-05 20:21:29</td>\n",
       "      <td>KHA04585</td>\n",
       "      <td>CUS0000001</td>\n",
       "      <td>2018-08-05 20:21:29</td>\n",
       "      <td>1340</td>\n",
       "      <td>1</td>\n",
       "      <td>50000.0</td>\n",
       "      <td>0</td>\n",
       "      <td>1</td>\n",
       "      <td>0</td>\n",
       "      <td>0.333333</td>\n",
       "      <td>0</td>\n",
       "      <td>Low</td>\n",
       "    </tr>\n",
       "    <tr>\n",
       "      <th>2</th>\n",
       "      <td>THỰC PHẨM</td>\n",
       "      <td>Hồ Chí Minh</td>\n",
       "      <td>955000.0</td>\n",
       "      <td>2018-07-14 09:33:05</td>\n",
       "      <td>KHA75581</td>\n",
       "      <td>CUS0000002</td>\n",
       "      <td>2018-07-14 09:33:05</td>\n",
       "      <td>1363</td>\n",
       "      <td>2</td>\n",
       "      <td>1107000.0</td>\n",
       "      <td>6</td>\n",
       "      <td>6</td>\n",
       "      <td>5</td>\n",
       "      <td>5.666667</td>\n",
       "      <td>5</td>\n",
       "      <td>Normal</td>\n",
       "    </tr>\n",
       "    <tr>\n",
       "      <th>3</th>\n",
       "      <td>SỨC KHỎE &amp; SẮC ĐẸP</td>\n",
       "      <td>Hồ Chí Minh</td>\n",
       "      <td>152000.0</td>\n",
       "      <td>2018-07-14 06:59:24</td>\n",
       "      <td>KHA75580</td>\n",
       "      <td>CUS0000002</td>\n",
       "      <td>2018-07-14 09:33:05</td>\n",
       "      <td>1363</td>\n",
       "      <td>2</td>\n",
       "      <td>1107000.0</td>\n",
       "      <td>6</td>\n",
       "      <td>6</td>\n",
       "      <td>5</td>\n",
       "      <td>5.666667</td>\n",
       "      <td>5</td>\n",
       "      <td>Normal</td>\n",
       "    </tr>\n",
       "    <tr>\n",
       "      <th>4</th>\n",
       "      <td>THỰC PHẨM</td>\n",
       "      <td>Hà Nội</td>\n",
       "      <td>460162.0</td>\n",
       "      <td>2018-07-09 15:17:10</td>\n",
       "      <td>KHA62856</td>\n",
       "      <td>CUS0000003</td>\n",
       "      <td>2018-07-09 15:17:10</td>\n",
       "      <td>1367</td>\n",
       "      <td>3</td>\n",
       "      <td>1928900.0</td>\n",
       "      <td>8</td>\n",
       "      <td>7</td>\n",
       "      <td>6</td>\n",
       "      <td>7.000000</td>\n",
       "      <td>7</td>\n",
       "      <td>VIP</td>\n",
       "    </tr>\n",
       "    <tr>\n",
       "      <th>...</th>\n",
       "      <td>...</td>\n",
       "      <td>...</td>\n",
       "      <td>...</td>\n",
       "      <td>...</td>\n",
       "      <td>...</td>\n",
       "      <td>...</td>\n",
       "      <td>...</td>\n",
       "      <td>...</td>\n",
       "      <td>...</td>\n",
       "      <td>...</td>\n",
       "      <td>...</td>\n",
       "      <td>...</td>\n",
       "      <td>...</td>\n",
       "      <td>...</td>\n",
       "      <td>...</td>\n",
       "      <td>...</td>\n",
       "    </tr>\n",
       "    <tr>\n",
       "      <th>41794</th>\n",
       "      <td>NHÀ CỬA &amp; ĐỜI SỐNG</td>\n",
       "      <td>Hà Nội</td>\n",
       "      <td>869000.0</td>\n",
       "      <td>2018-08-11 11:21:36</td>\n",
       "      <td>KHA47841</td>\n",
       "      <td>CUS0034231</td>\n",
       "      <td>2018-08-11 11:21:36</td>\n",
       "      <td>1335</td>\n",
       "      <td>1</td>\n",
       "      <td>869000.0</td>\n",
       "      <td>6</td>\n",
       "      <td>0</td>\n",
       "      <td>4</td>\n",
       "      <td>3.333333</td>\n",
       "      <td>3</td>\n",
       "      <td>Low</td>\n",
       "    </tr>\n",
       "    <tr>\n",
       "      <th>41795</th>\n",
       "      <td>THỜI TRANG</td>\n",
       "      <td>Hà Nội</td>\n",
       "      <td>590000.0</td>\n",
       "      <td>2018-07-18 07:08:06</td>\n",
       "      <td>KHA62782</td>\n",
       "      <td>CUS0034232</td>\n",
       "      <td>2018-07-18 07:08:06</td>\n",
       "      <td>1359</td>\n",
       "      <td>1</td>\n",
       "      <td>590000.0</td>\n",
       "      <td>6</td>\n",
       "      <td>5</td>\n",
       "      <td>3</td>\n",
       "      <td>4.666667</td>\n",
       "      <td>4</td>\n",
       "      <td>Normal</td>\n",
       "    </tr>\n",
       "    <tr>\n",
       "      <th>41796</th>\n",
       "      <td>THỜI TRANG</td>\n",
       "      <td>Hà Nội</td>\n",
       "      <td>1405000.0</td>\n",
       "      <td>2018-07-10 13:16:37</td>\n",
       "      <td>KHA90136</td>\n",
       "      <td>CUS0034233</td>\n",
       "      <td>2018-07-10 13:16:37</td>\n",
       "      <td>1367</td>\n",
       "      <td>1</td>\n",
       "      <td>1405000.0</td>\n",
       "      <td>6</td>\n",
       "      <td>7</td>\n",
       "      <td>5</td>\n",
       "      <td>6.000000</td>\n",
       "      <td>6</td>\n",
       "      <td>Normal</td>\n",
       "    </tr>\n",
       "    <tr>\n",
       "      <th>41797</th>\n",
       "      <td>NHÀ CỬA &amp; ĐỜI SỐNG</td>\n",
       "      <td>Hà Nội</td>\n",
       "      <td>1508000.0</td>\n",
       "      <td>2018-08-11 15:19:47</td>\n",
       "      <td>KHA28613</td>\n",
       "      <td>CUS0034234</td>\n",
       "      <td>2018-08-11 15:19:47</td>\n",
       "      <td>1334</td>\n",
       "      <td>2</td>\n",
       "      <td>2528590.0</td>\n",
       "      <td>8</td>\n",
       "      <td>0</td>\n",
       "      <td>6</td>\n",
       "      <td>4.666667</td>\n",
       "      <td>4</td>\n",
       "      <td>Normal</td>\n",
       "    </tr>\n",
       "    <tr>\n",
       "      <th>41798</th>\n",
       "      <td>THỰC PHẨM</td>\n",
       "      <td>Hà Nội</td>\n",
       "      <td>1020590.0</td>\n",
       "      <td>2018-07-06 12:36:42</td>\n",
       "      <td>KHA28614</td>\n",
       "      <td>CUS0034234</td>\n",
       "      <td>2018-08-11 15:19:47</td>\n",
       "      <td>1334</td>\n",
       "      <td>2</td>\n",
       "      <td>2528590.0</td>\n",
       "      <td>8</td>\n",
       "      <td>0</td>\n",
       "      <td>6</td>\n",
       "      <td>4.666667</td>\n",
       "      <td>4</td>\n",
       "      <td>Normal</td>\n",
       "    </tr>\n",
       "  </tbody>\n",
       "</table>\n",
       "<p>41799 rows × 16 columns</p>\n",
       "</div>"
      ],
      "text/plain": [
       "               PRODUCT_CATE     PROVINCE  ORDER_COST          ORDER_DATE  \\\n",
       "0      ĐIỆN MÁY & CÔNG NGHỆ  Hồ Chí Minh  20780000.0 2018-07-22 15:47:00   \n",
       "1      ĐIỆN MÁY & CÔNG NGHỆ       Hà Nội     50000.0 2018-08-05 20:21:29   \n",
       "2                 THỰC PHẨM  Hồ Chí Minh    955000.0 2018-07-14 09:33:05   \n",
       "3        SỨC KHỎE & SẮC ĐẸP  Hồ Chí Minh    152000.0 2018-07-14 06:59:24   \n",
       "4                 THỰC PHẨM       Hà Nội    460162.0 2018-07-09 15:17:10   \n",
       "...                     ...          ...         ...                 ...   \n",
       "41794    NHÀ CỬA & ĐỜI SỐNG       Hà Nội    869000.0 2018-08-11 11:21:36   \n",
       "41795            THỜI TRANG       Hà Nội    590000.0 2018-07-18 07:08:06   \n",
       "41796            THỜI TRANG       Hà Nội   1405000.0 2018-07-10 13:16:37   \n",
       "41797    NHÀ CỬA & ĐỜI SỐNG       Hà Nội   1508000.0 2018-08-11 15:19:47   \n",
       "41798             THỰC PHẨM       Hà Nội   1020590.0 2018-07-06 12:36:42   \n",
       "\n",
       "       ORDER_ID     CUST_ID     RecentOrderDate  Recency  Frequency  \\\n",
       "0      KHA35965  CUS0000000 2018-07-22 15:47:00     1354          1   \n",
       "1      KHA04585  CUS0000001 2018-08-05 20:21:29     1340          1   \n",
       "2      KHA75581  CUS0000002 2018-07-14 09:33:05     1363          2   \n",
       "3      KHA75580  CUS0000002 2018-07-14 09:33:05     1363          2   \n",
       "4      KHA62856  CUS0000003 2018-07-09 15:17:10     1367          3   \n",
       "...         ...         ...                 ...      ...        ...   \n",
       "41794  KHA47841  CUS0034231 2018-08-11 11:21:36     1335          1   \n",
       "41795  KHA62782  CUS0034232 2018-07-18 07:08:06     1359          1   \n",
       "41796  KHA90136  CUS0034233 2018-07-10 13:16:37     1367          1   \n",
       "41797  KHA28613  CUS0034234 2018-08-11 15:19:47     1334          2   \n",
       "41798  KHA28614  CUS0034234 2018-08-11 15:19:47     1334          2   \n",
       "\n",
       "         Monetary  rFrequency  rRecency  rMonetary      rank  FinalRank  \\\n",
       "0      20780000.0           0         4          9  4.333333          4   \n",
       "1         50000.0           0         1          0  0.333333          0   \n",
       "2       1107000.0           6         6          5  5.666667          5   \n",
       "3       1107000.0           6         6          5  5.666667          5   \n",
       "4       1928900.0           8         7          6  7.000000          7   \n",
       "...           ...         ...       ...        ...       ...        ...   \n",
       "41794    869000.0           6         0          4  3.333333          3   \n",
       "41795    590000.0           6         5          3  4.666667          4   \n",
       "41796   1405000.0           6         7          5  6.000000          6   \n",
       "41797   2528590.0           8         0          6  4.666667          4   \n",
       "41798   2528590.0           8         0          6  4.666667          4   \n",
       "\n",
       "      Segment  \n",
       "0      Normal  \n",
       "1         Low  \n",
       "2      Normal  \n",
       "3      Normal  \n",
       "4         VIP  \n",
       "...       ...  \n",
       "41794     Low  \n",
       "41795  Normal  \n",
       "41796  Normal  \n",
       "41797  Normal  \n",
       "41798  Normal  \n",
       "\n",
       "[41799 rows x 16 columns]"
      ]
     },
     "execution_count": 18,
     "metadata": {},
     "output_type": "execute_result"
    }
   ],
   "source": [
    "df['Segment'] = 'Low'\n",
    "df.loc[(df['rank'] < 7) & (df['rank'] >= 4), 'Segment'] = 'Normal'\n",
    "df.loc[df['rank'] >= 7, 'Segment'] = 'VIP'\n",
    "df"
   ]
  },
  {
   "cell_type": "code",
   "execution_count": 19,
   "metadata": {},
   "outputs": [
    {
     "data": {
      "image/png": "[encoded data removed]",
      "text/plain": [
       "<Figure size 432x288 with 1 Axes>"
      ]
     },
     "metadata": {
      "needs_background": "light"
     },
     "output_type": "display_data"
    }
   ],
   "source": [
    "df['rank'].plot.hist(bins = 10)\n",
    "plt.show()"
   ]
  },
  {
   "cell_type": "code",
   "execution_count": 20,
   "metadata": {},
   "outputs": [
    {
     "data": {
      "text/plain": [
       "Text(0.5, 1.0, 'Tỷ lệ số lượng khách hàng theo segment KH')"
      ]
     },
     "execution_count": 20,
     "metadata": {},
     "output_type": "execute_result"
    },
    {
     "data": {
      "image/png": "[encoded data removed]",
      "text/plain": [
       "<Figure size 576x576 with 1 Axes>"
      ]
     },
     "metadata": {},
     "output_type": "display_data"
    }
   ],
   "source": [
    "# df['rank'].plot.hist(bins = 10)\n",
    "df.groupby('Segment').CUST_ID.count().plot.pie(autopct = '%.2f%%', figsize = (8, 8))\n",
    "plt.title('Tỷ lệ số lượng khách hàng theo segment KH')"
   ]
  },
  {
   "cell_type": "code",
   "execution_count": 21,
   "metadata": {},
   "outputs": [
    {
     "data": {
      "text/plain": [
       "Text(0.5, 1.0, 'Doanh số theo segment KH')"
      ]
     },
     "execution_count": 21,
     "metadata": {},
     "output_type": "execute_result"
    },
    {
     "data": {
      "image/png": "[encoded data removed]",
      "text/plain": [
       "<Figure size 432x576 with 1 Axes>"
      ]
     },
     "metadata": {
      "needs_background": "light"
     },
     "output_type": "display_data"
    }
   ],
   "source": [
    "df.groupby('Segment').ORDER_COST.mean().plot.bar(figsize = (6, 8))\n",
    "plt.title('Doanh số theo segment KH')"
   ]
  },
  {
   "cell_type": "code",
   "execution_count": 22,
   "metadata": {},
   "outputs": [
    {
     "data": {
      "text/plain": [
       "Text(0.5, 1.0, 'Tỷ lệ doanh số theo segment KH')"
      ]
     },
     "execution_count": 22,
     "metadata": {},
     "output_type": "execute_result"
    },
    {
     "data": {
      "image/png": "[encoded data removed]",
      "text/plain": [
       "<Figure size 576x576 with 1 Axes>"
      ]
     },
     "metadata": {},
     "output_type": "display_data"
    }
   ],
   "source": [
    "df.groupby('Segment').ORDER_COST.sum().plot.pie(autopct = '%.2f%%', figsize = (8, 8))\n",
    "plt.title('Tỷ lệ doanh số theo segment KH')"
   ]
  },
  {
   "cell_type": "markdown",
   "metadata": {},
   "source": [
    "### Phân khúc khách hàng theo mô hình RFM sử dụng thuật toán Kmean"
   ]
  },
  {
   "cell_type": "code",
   "execution_count": 23,
   "metadata": {},
   "outputs": [
    {
     "data": {
      "text/plain": [
       "array([[-0.06457346, -0.65812476,  1.73640265],\n",
       "       [-1.14856274, -0.65812476, -1.05087761],\n",
       "       [ 0.69081556,  1.37936967, -0.27111437],\n",
       "       ...,\n",
       "       [ 1.04209966, -0.65812476, -0.17095578],\n",
       "       [-1.58120718,  1.37936967,  0.11275767],\n",
       "       [-1.58120718,  1.37936967,  0.11275767]])"
      ]
     },
     "execution_count": 23,
     "metadata": {},
     "output_type": "execute_result"
    }
   ],
   "source": [
    "from sklearn.preprocessing import StandardScaler\n",
    "scaler = StandardScaler()\n",
    "scaler.fit(df_customers_t)\n",
    "\n",
    "df_customers_t = scaler.transform(df_customers_t)\n",
    "df_customers_t"
   ]
  },
  {
   "cell_type": "code",
   "execution_count": 24,
   "metadata": {},
   "outputs": [
    {
     "data": {
      "image/png": "[encoded data removed]",
      "text/plain": [
       "<Figure size 432x288 with 1 Axes>"
      ]
     },
     "metadata": {
      "needs_background": "light"
     },
     "output_type": "display_data"
    }
   ],
   "source": [
    "from sklearn.cluster import KMeans\n",
    "import seaborn as sns\n",
    "\n",
    "sse = {}\n",
    "for k in range(1, 11):\n",
    "    kmeans = KMeans(n_clusters=k, random_state=42)\n",
    "    kmeans.fit(df_customers_t)\n",
    "    sse[k] = kmeans.inertia_ \n",
    "    \n",
    "plt.title('The Elbow Method')\n",
    "plt.xlabel('k')\n",
    "plt.ylabel('SSE')\n",
    "sns.pointplot(x=list(sse.keys()), y=list(sse.values()))\n",
    "plt.show()"
   ]
  },
  {
   "cell_type": "code",
   "execution_count": 25,
   "metadata": {},
   "outputs": [
    {
     "data": {
      "text/plain": [
       "KMeans(n_clusters=4)"
      ]
     },
     "execution_count": 25,
     "metadata": {},
     "output_type": "execute_result"
    }
   ],
   "source": [
    "model = KMeans(n_clusters=4)\n",
    ">>> model.fit(df_customers_t)\n",
    "KMeans(n_clusters=4)\n"
   ]
  },
  {
   "cell_type": "code",
   "execution_count": 26,
   "metadata": {},
   "outputs": [
    {
     "data": {
      "text/html": [
       "<div>\n",
       "<style scoped>\n",
       "    .dataframe tbody tr th:only-of-type {\n",
       "        vertical-align: middle;\n",
       "    }\n",
       "\n",
       "    .dataframe tbody tr th {\n",
       "        vertical-align: top;\n",
       "    }\n",
       "\n",
       "    .dataframe thead th {\n",
       "        text-align: right;\n",
       "    }\n",
       "</style>\n",
       "<table border=\"1\" class=\"dataframe\">\n",
       "  <thead>\n",
       "    <tr style=\"text-align: right;\">\n",
       "      <th></th>\n",
       "      <th>CUST_ID</th>\n",
       "      <th>Recency</th>\n",
       "      <th>Frequency</th>\n",
       "      <th>Monetary</th>\n",
       "      <th>Cluster</th>\n",
       "    </tr>\n",
       "  </thead>\n",
       "  <tbody>\n",
       "    <tr>\n",
       "      <th>0</th>\n",
       "      <td>CUS0000000</td>\n",
       "      <td>1354</td>\n",
       "      <td>1</td>\n",
       "      <td>20780000.0</td>\n",
       "      <td>3</td>\n",
       "    </tr>\n",
       "    <tr>\n",
       "      <th>1</th>\n",
       "      <td>CUS0000001</td>\n",
       "      <td>1340</td>\n",
       "      <td>1</td>\n",
       "      <td>50000.0</td>\n",
       "      <td>0</td>\n",
       "    </tr>\n",
       "    <tr>\n",
       "      <th>2</th>\n",
       "      <td>CUS0000002</td>\n",
       "      <td>1363</td>\n",
       "      <td>2</td>\n",
       "      <td>1107000.0</td>\n",
       "      <td>1</td>\n",
       "    </tr>\n",
       "    <tr>\n",
       "      <th>3</th>\n",
       "      <td>CUS0000002</td>\n",
       "      <td>1363</td>\n",
       "      <td>2</td>\n",
       "      <td>1107000.0</td>\n",
       "      <td>1</td>\n",
       "    </tr>\n",
       "    <tr>\n",
       "      <th>4</th>\n",
       "      <td>CUS0000003</td>\n",
       "      <td>1367</td>\n",
       "      <td>3</td>\n",
       "      <td>1928900.0</td>\n",
       "      <td>1</td>\n",
       "    </tr>\n",
       "  </tbody>\n",
       "</table>\n",
       "</div>"
      ],
      "text/plain": [
       "      CUST_ID  Recency  Frequency    Monetary  Cluster\n",
       "0  CUS0000000     1354          1  20780000.0        3\n",
       "1  CUS0000001     1340          1     50000.0        0\n",
       "2  CUS0000002     1363          2   1107000.0        1\n",
       "3  CUS0000002     1363          2   1107000.0        1\n",
       "4  CUS0000003     1367          3   1928900.0        1"
      ]
     },
     "execution_count": 26,
     "metadata": {},
     "output_type": "execute_result"
    }
   ],
   "source": [
    "df['Cluster'] = model.labels_\n",
    "df[['CUST_ID', 'Recency', 'Frequency','Monetary','Cluster']].head()\n"
   ]
  },
  {
   "cell_type": "code",
   "execution_count": 27,
   "metadata": {},
   "outputs": [
    {
     "data": {
      "text/html": [
       "<div>\n",
       "<style scoped>\n",
       "    .dataframe tbody tr th:only-of-type {\n",
       "        vertical-align: middle;\n",
       "    }\n",
       "\n",
       "    .dataframe tbody tr th {\n",
       "        vertical-align: top;\n",
       "    }\n",
       "\n",
       "    .dataframe thead th {\n",
       "        text-align: right;\n",
       "    }\n",
       "</style>\n",
       "<table border=\"1\" class=\"dataframe\">\n",
       "  <thead>\n",
       "    <tr style=\"text-align: right;\">\n",
       "      <th></th>\n",
       "      <th>Recency</th>\n",
       "      <th>Frequency</th>\n",
       "      <th>Monetary</th>\n",
       "    </tr>\n",
       "    <tr>\n",
       "      <th>Cluster</th>\n",
       "      <th></th>\n",
       "      <th></th>\n",
       "      <th></th>\n",
       "    </tr>\n",
       "  </thead>\n",
       "  <tbody>\n",
       "    <tr>\n",
       "      <th>0</th>\n",
       "      <td>1344.01</td>\n",
       "      <td>1.00</td>\n",
       "      <td>1533744.31</td>\n",
       "    </tr>\n",
       "    <tr>\n",
       "      <th>1</th>\n",
       "      <td>1351.24</td>\n",
       "      <td>2.71</td>\n",
       "      <td>3425969.18</td>\n",
       "    </tr>\n",
       "    <tr>\n",
       "      <th>2</th>\n",
       "      <td>1365.34</td>\n",
       "      <td>1.00</td>\n",
       "      <td>1730326.63</td>\n",
       "    </tr>\n",
       "    <tr>\n",
       "      <th>3</th>\n",
       "      <td>1353.40</td>\n",
       "      <td>1.80</td>\n",
       "      <td>55445751.45</td>\n",
       "    </tr>\n",
       "  </tbody>\n",
       "</table>\n",
       "</div>"
      ],
      "text/plain": [
       "         Recency  Frequency     Monetary\n",
       "Cluster                                 \n",
       "0        1344.01       1.00   1533744.31\n",
       "1        1351.24       2.71   3425969.18\n",
       "2        1365.34       1.00   1730326.63\n",
       "3        1353.40       1.80  55445751.45"
      ]
     },
     "execution_count": 27,
     "metadata": {},
     "output_type": "execute_result"
    }
   ],
   "source": [
    "df.groupby('Cluster').agg(\n",
    "    {\n",
    "        'Recency':'mean',\n",
    "        'Frequency':'mean',\n",
    "        'Monetary':'mean'\n",
    "    }\n",
    ").round(2)\n"
   ]
  },
  {
   "cell_type": "markdown",
   "metadata": {},
   "source": [
    "### Phân cụm với từng chỉ số "
   ]
  },
  {
   "cell_type": "code",
   "execution_count": 43,
   "metadata": {},
   "outputs": [
    {
     "data": {
      "text/html": [
       "<div>\n",
       "<style scoped>\n",
       "    .dataframe tbody tr th:only-of-type {\n",
       "        vertical-align: middle;\n",
       "    }\n",
       "\n",
       "    .dataframe tbody tr th {\n",
       "        vertical-align: top;\n",
       "    }\n",
       "\n",
       "    .dataframe thead th {\n",
       "        text-align: right;\n",
       "    }\n",
       "</style>\n",
       "<table border=\"1\" class=\"dataframe\">\n",
       "  <thead>\n",
       "    <tr style=\"text-align: right;\">\n",
       "      <th></th>\n",
       "      <th>count</th>\n",
       "      <th>mean</th>\n",
       "      <th>std</th>\n",
       "      <th>min</th>\n",
       "      <th>25%</th>\n",
       "      <th>50%</th>\n",
       "      <th>75%</th>\n",
       "      <th>max</th>\n",
       "    </tr>\n",
       "    <tr>\n",
       "      <th>RecencyCluster</th>\n",
       "      <th></th>\n",
       "      <th></th>\n",
       "      <th></th>\n",
       "      <th></th>\n",
       "      <th></th>\n",
       "      <th></th>\n",
       "      <th></th>\n",
       "      <th></th>\n",
       "    </tr>\n",
       "  </thead>\n",
       "  <tbody>\n",
       "    <tr>\n",
       "      <th>0</th>\n",
       "      <td>9628.0</td>\n",
       "      <td>1369.979435</td>\n",
       "      <td>2.796627</td>\n",
       "      <td>1366.0</td>\n",
       "      <td>1368.0</td>\n",
       "      <td>1370.0</td>\n",
       "      <td>1372.0</td>\n",
       "      <td>1375.0</td>\n",
       "    </tr>\n",
       "    <tr>\n",
       "      <th>1</th>\n",
       "      <td>11045.0</td>\n",
       "      <td>1360.634676</td>\n",
       "      <td>2.712917</td>\n",
       "      <td>1356.0</td>\n",
       "      <td>1359.0</td>\n",
       "      <td>1361.0</td>\n",
       "      <td>1363.0</td>\n",
       "      <td>1365.0</td>\n",
       "    </tr>\n",
       "    <tr>\n",
       "      <th>2</th>\n",
       "      <td>10582.0</td>\n",
       "      <td>1349.918446</td>\n",
       "      <td>3.436499</td>\n",
       "      <td>1344.0</td>\n",
       "      <td>1347.0</td>\n",
       "      <td>1350.0</td>\n",
       "      <td>1353.0</td>\n",
       "      <td>1355.0</td>\n",
       "    </tr>\n",
       "    <tr>\n",
       "      <th>3</th>\n",
       "      <td>10544.0</td>\n",
       "      <td>1337.591901</td>\n",
       "      <td>3.132548</td>\n",
       "      <td>1333.0</td>\n",
       "      <td>1335.0</td>\n",
       "      <td>1337.0</td>\n",
       "      <td>1340.0</td>\n",
       "      <td>1343.0</td>\n",
       "    </tr>\n",
       "  </tbody>\n",
       "</table>\n",
       "</div>"
      ],
      "text/plain": [
       "                  count         mean       std     min     25%     50%  \\\n",
       "RecencyCluster                                                           \n",
       "0                9628.0  1369.979435  2.796627  1366.0  1368.0  1370.0   \n",
       "1               11045.0  1360.634676  2.712917  1356.0  1359.0  1361.0   \n",
       "2               10582.0  1349.918446  3.436499  1344.0  1347.0  1350.0   \n",
       "3               10544.0  1337.591901  3.132548  1333.0  1335.0  1337.0   \n",
       "\n",
       "                   75%     max  \n",
       "RecencyCluster                  \n",
       "0               1372.0  1375.0  \n",
       "1               1363.0  1365.0  \n",
       "2               1353.0  1355.0  \n",
       "3               1340.0  1343.0  "
      ]
     },
     "execution_count": 43,
     "metadata": {},
     "output_type": "execute_result"
    }
   ],
   "source": [
    "kmeans = KMeans(n_clusters=4)\n",
    "kmeans.fit(df[['Recency']])\n",
    "df['RecencyCluster'] = kmeans.predict(df[['Recency']])\n",
    "\n",
    "#function for ordering cluster numbers\n",
    "def order_cluster(cluster_field_name, target_field_name,df,ascending):\n",
    "    new_cluster_field_name = 'new_' + cluster_field_name\n",
    "    df_new = df.groupby(cluster_field_name)[target_field_name].mean().reset_index()\n",
    "    df_new = df_new.sort_values(by=target_field_name,ascending=ascending).reset_index(drop=True)\n",
    "    df_new['index'] = df_new.index\n",
    "    df_final = pd.merge(df,df_new[[cluster_field_name,'index']], on=cluster_field_name)\n",
    "    df_final = df_final.drop([cluster_field_name],axis=1)\n",
    "    df_final = df_final.rename(columns={\"index\":cluster_field_name})\n",
    "    return df_final\n",
    "\n",
    "df = order_cluster('RecencyCluster', 'Recency',df,False)\n",
    "df.groupby('RecencyCluster')['Recency'].describe()"
   ]
  },
  {
   "cell_type": "code",
   "execution_count": 45,
   "metadata": {},
   "outputs": [
    {
     "data": {
      "text/html": [
       "<div>\n",
       "<style scoped>\n",
       "    .dataframe tbody tr th:only-of-type {\n",
       "        vertical-align: middle;\n",
       "    }\n",
       "\n",
       "    .dataframe tbody tr th {\n",
       "        vertical-align: top;\n",
       "    }\n",
       "\n",
       "    .dataframe thead th {\n",
       "        text-align: right;\n",
       "    }\n",
       "</style>\n",
       "<table border=\"1\" class=\"dataframe\">\n",
       "  <thead>\n",
       "    <tr style=\"text-align: right;\">\n",
       "      <th></th>\n",
       "      <th>count</th>\n",
       "      <th>mean</th>\n",
       "      <th>std</th>\n",
       "      <th>min</th>\n",
       "      <th>25%</th>\n",
       "      <th>50%</th>\n",
       "      <th>75%</th>\n",
       "      <th>max</th>\n",
       "    </tr>\n",
       "    <tr>\n",
       "      <th>FrequencyCluster</th>\n",
       "      <th></th>\n",
       "      <th></th>\n",
       "      <th></th>\n",
       "      <th></th>\n",
       "      <th></th>\n",
       "      <th></th>\n",
       "      <th></th>\n",
       "      <th></th>\n",
       "    </tr>\n",
       "  </thead>\n",
       "  <tbody>\n",
       "    <tr>\n",
       "      <th>0</th>\n",
       "      <td>29108.0</td>\n",
       "      <td>1.000000</td>\n",
       "      <td>0.000000</td>\n",
       "      <td>1.0</td>\n",
       "      <td>1.0</td>\n",
       "      <td>1.0</td>\n",
       "      <td>1.0</td>\n",
       "      <td>1.0</td>\n",
       "    </tr>\n",
       "    <tr>\n",
       "      <th>1</th>\n",
       "      <td>4730.0</td>\n",
       "      <td>3.318816</td>\n",
       "      <td>0.466067</td>\n",
       "      <td>3.0</td>\n",
       "      <td>3.0</td>\n",
       "      <td>3.0</td>\n",
       "      <td>4.0</td>\n",
       "      <td>4.0</td>\n",
       "    </tr>\n",
       "    <tr>\n",
       "      <th>2</th>\n",
       "      <td>7004.0</td>\n",
       "      <td>2.000000</td>\n",
       "      <td>0.000000</td>\n",
       "      <td>2.0</td>\n",
       "      <td>2.0</td>\n",
       "      <td>2.0</td>\n",
       "      <td>2.0</td>\n",
       "      <td>2.0</td>\n",
       "    </tr>\n",
       "    <tr>\n",
       "      <th>3</th>\n",
       "      <td>957.0</td>\n",
       "      <td>5.641588</td>\n",
       "      <td>1.008367</td>\n",
       "      <td>5.0</td>\n",
       "      <td>5.0</td>\n",
       "      <td>5.0</td>\n",
       "      <td>6.0</td>\n",
       "      <td>10.0</td>\n",
       "    </tr>\n",
       "  </tbody>\n",
       "</table>\n",
       "</div>"
      ],
      "text/plain": [
       "                    count      mean       std  min  25%  50%  75%   max\n",
       "FrequencyCluster                                                       \n",
       "0                 29108.0  1.000000  0.000000  1.0  1.0  1.0  1.0   1.0\n",
       "1                  4730.0  3.318816  0.466067  3.0  3.0  3.0  4.0   4.0\n",
       "2                  7004.0  2.000000  0.000000  2.0  2.0  2.0  2.0   2.0\n",
       "3                   957.0  5.641588  1.008367  5.0  5.0  5.0  6.0  10.0"
      ]
     },
     "execution_count": 45,
     "metadata": {},
     "output_type": "execute_result"
    }
   ],
   "source": [
    "#k-means\n",
    "kmeans = KMeans(n_clusters=4)\n",
    "kmeans.fit(df[['Frequency']])\n",
    "df['FrequencyCluster'] = kmeans.predict(df[['Frequency']])\n",
    "\n",
    "#order the frequency cluster\n",
    "tx_user = order_cluster('FrequencyCluster', 'Frequency',df,True)\n",
    "\n",
    "#see details of each cluster\n",
    "df.groupby('FrequencyCluster')['Frequency'].describe()"
   ]
  },
  {
   "cell_type": "code",
   "execution_count": 46,
   "metadata": {},
   "outputs": [
    {
     "data": {
      "text/html": [
       "<div>\n",
       "<style scoped>\n",
       "    .dataframe tbody tr th:only-of-type {\n",
       "        vertical-align: middle;\n",
       "    }\n",
       "\n",
       "    .dataframe tbody tr th {\n",
       "        vertical-align: top;\n",
       "    }\n",
       "\n",
       "    .dataframe thead th {\n",
       "        text-align: right;\n",
       "    }\n",
       "</style>\n",
       "<table border=\"1\" class=\"dataframe\">\n",
       "  <thead>\n",
       "    <tr style=\"text-align: right;\">\n",
       "      <th></th>\n",
       "      <th>count</th>\n",
       "      <th>mean</th>\n",
       "      <th>std</th>\n",
       "      <th>min</th>\n",
       "      <th>25%</th>\n",
       "      <th>50%</th>\n",
       "      <th>75%</th>\n",
       "      <th>max</th>\n",
       "    </tr>\n",
       "    <tr>\n",
       "      <th>MonetaryCluster</th>\n",
       "      <th></th>\n",
       "      <th></th>\n",
       "      <th></th>\n",
       "      <th></th>\n",
       "      <th></th>\n",
       "      <th></th>\n",
       "      <th></th>\n",
       "      <th></th>\n",
       "    </tr>\n",
       "  </thead>\n",
       "  <tbody>\n",
       "    <tr>\n",
       "      <th>0</th>\n",
       "      <td>40588.0</td>\n",
       "      <td>3.350894e+06</td>\n",
       "      <td>6.236943e+06</td>\n",
       "      <td>0.000000e+00</td>\n",
       "      <td>3.600000e+05</td>\n",
       "      <td>1.000000e+06</td>\n",
       "      <td>3.010100e+06</td>\n",
       "      <td>4.320000e+07</td>\n",
       "    </tr>\n",
       "    <tr>\n",
       "      <th>1</th>\n",
       "      <td>1128.0</td>\n",
       "      <td>8.305198e+07</td>\n",
       "      <td>3.788261e+07</td>\n",
       "      <td>4.332690e+07</td>\n",
       "      <td>5.329300e+07</td>\n",
       "      <td>7.138900e+07</td>\n",
       "      <td>1.000858e+08</td>\n",
       "      <td>2.294500e+08</td>\n",
       "    </tr>\n",
       "    <tr>\n",
       "      <th>2</th>\n",
       "      <td>81.0</td>\n",
       "      <td>3.782149e+08</td>\n",
       "      <td>1.445872e+08</td>\n",
       "      <td>2.322800e+08</td>\n",
       "      <td>2.954600e+08</td>\n",
       "      <td>3.606190e+08</td>\n",
       "      <td>3.907930e+08</td>\n",
       "      <td>1.080000e+09</td>\n",
       "    </tr>\n",
       "    <tr>\n",
       "      <th>3</th>\n",
       "      <td>2.0</td>\n",
       "      <td>2.144066e+09</td>\n",
       "      <td>0.000000e+00</td>\n",
       "      <td>2.144066e+09</td>\n",
       "      <td>2.144066e+09</td>\n",
       "      <td>2.144066e+09</td>\n",
       "      <td>2.144066e+09</td>\n",
       "      <td>2.144066e+09</td>\n",
       "    </tr>\n",
       "  </tbody>\n",
       "</table>\n",
       "</div>"
      ],
      "text/plain": [
       "                   count          mean           std           min  \\\n",
       "MonetaryCluster                                                      \n",
       "0                40588.0  3.350894e+06  6.236943e+06  0.000000e+00   \n",
       "1                 1128.0  8.305198e+07  3.788261e+07  4.332690e+07   \n",
       "2                   81.0  3.782149e+08  1.445872e+08  2.322800e+08   \n",
       "3                    2.0  2.144066e+09  0.000000e+00  2.144066e+09   \n",
       "\n",
       "                          25%           50%           75%           max  \n",
       "MonetaryCluster                                                          \n",
       "0                3.600000e+05  1.000000e+06  3.010100e+06  4.320000e+07  \n",
       "1                5.329300e+07  7.138900e+07  1.000858e+08  2.294500e+08  \n",
       "2                2.954600e+08  3.606190e+08  3.907930e+08  1.080000e+09  \n",
       "3                2.144066e+09  2.144066e+09  2.144066e+09  2.144066e+09  "
      ]
     },
     "execution_count": 46,
     "metadata": {},
     "output_type": "execute_result"
    }
   ],
   "source": [
    "kmeans = KMeans(n_clusters=4)\n",
    "kmeans.fit(df[['Monetary']])\n",
    "df['MonetaryCluster'] = kmeans.predict(df[['Monetary']])\n",
    "\n",
    "\n",
    "#order the cluster numbers\n",
    "df = order_cluster('MonetaryCluster', 'Monetary',df,True)\n",
    "\n",
    "#show details of the dataframe\n",
    "df.groupby('MonetaryCluster')['Monetary'].describe()"
   ]
  },
  {
   "cell_type": "code",
   "execution_count": 47,
   "metadata": {},
   "outputs": [
    {
     "data": {
      "text/html": [
       "<div>\n",
       "<style scoped>\n",
       "    .dataframe tbody tr th:only-of-type {\n",
       "        vertical-align: middle;\n",
       "    }\n",
       "\n",
       "    .dataframe tbody tr th {\n",
       "        vertical-align: top;\n",
       "    }\n",
       "\n",
       "    .dataframe thead th {\n",
       "        text-align: right;\n",
       "    }\n",
       "</style>\n",
       "<table border=\"1\" class=\"dataframe\">\n",
       "  <thead>\n",
       "    <tr style=\"text-align: right;\">\n",
       "      <th></th>\n",
       "      <th>CUST_ID</th>\n",
       "      <th>Recency</th>\n",
       "      <th>Frequency</th>\n",
       "      <th>Monetary</th>\n",
       "      <th>RecencyCluster</th>\n",
       "      <th>FrequencyCluster</th>\n",
       "      <th>MonetaryCluster</th>\n",
       "    </tr>\n",
       "  </thead>\n",
       "  <tbody>\n",
       "    <tr>\n",
       "      <th>0</th>\n",
       "      <td>CUS0000000</td>\n",
       "      <td>1354</td>\n",
       "      <td>1</td>\n",
       "      <td>20780000.0</td>\n",
       "      <td>2</td>\n",
       "      <td>0</td>\n",
       "      <td>0</td>\n",
       "    </tr>\n",
       "    <tr>\n",
       "      <th>1</th>\n",
       "      <td>CUS0000008</td>\n",
       "      <td>1347</td>\n",
       "      <td>1</td>\n",
       "      <td>230000.0</td>\n",
       "      <td>2</td>\n",
       "      <td>0</td>\n",
       "      <td>0</td>\n",
       "    </tr>\n",
       "    <tr>\n",
       "      <th>2</th>\n",
       "      <td>CUS0000011</td>\n",
       "      <td>1353</td>\n",
       "      <td>2</td>\n",
       "      <td>10481000.0</td>\n",
       "      <td>2</td>\n",
       "      <td>2</td>\n",
       "      <td>0</td>\n",
       "    </tr>\n",
       "    <tr>\n",
       "      <th>3</th>\n",
       "      <td>CUS0000011</td>\n",
       "      <td>1353</td>\n",
       "      <td>2</td>\n",
       "      <td>10481000.0</td>\n",
       "      <td>2</td>\n",
       "      <td>2</td>\n",
       "      <td>0</td>\n",
       "    </tr>\n",
       "    <tr>\n",
       "      <th>4</th>\n",
       "      <td>CUS0000016</td>\n",
       "      <td>1353</td>\n",
       "      <td>1</td>\n",
       "      <td>920000.0</td>\n",
       "      <td>2</td>\n",
       "      <td>0</td>\n",
       "      <td>0</td>\n",
       "    </tr>\n",
       "  </tbody>\n",
       "</table>\n",
       "</div>"
      ],
      "text/plain": [
       "      CUST_ID  Recency  Frequency    Monetary  RecencyCluster  \\\n",
       "0  CUS0000000     1354          1  20780000.0               2   \n",
       "1  CUS0000008     1347          1    230000.0               2   \n",
       "2  CUS0000011     1353          2  10481000.0               2   \n",
       "3  CUS0000011     1353          2  10481000.0               2   \n",
       "4  CUS0000016     1353          1    920000.0               2   \n",
       "\n",
       "   FrequencyCluster  MonetaryCluster  \n",
       "0                 0                0  \n",
       "1                 0                0  \n",
       "2                 2                0  \n",
       "3                 2                0  \n",
       "4                 0                0  "
      ]
     },
     "execution_count": 47,
     "metadata": {},
     "output_type": "execute_result"
    }
   ],
   "source": [
    "df[['CUST_ID', 'Recency', 'Frequency','Monetary', 'RecencyCluster', 'FrequencyCluster', 'MonetaryCluster']].head()"
   ]
  },
  {
   "cell_type": "code",
   "execution_count": 48,
   "metadata": {},
   "outputs": [
    {
     "name": "stderr",
     "output_type": "stream",
     "text": [
      "C:\\Users\\Nghia\\AppData\\Local\\Temp\\ipykernel_7104\\109396865.py:3: FutureWarning: Indexing with multiple keys (implicitly converted to a tuple of keys) will be deprecated, use a list instead.\n",
      "  df.groupby('OverallScore')['Recency','Frequency','Monetary'].mean()\n"
     ]
    },
    {
     "data": {
      "text/html": [
       "<div>\n",
       "<style scoped>\n",
       "    .dataframe tbody tr th:only-of-type {\n",
       "        vertical-align: middle;\n",
       "    }\n",
       "\n",
       "    .dataframe tbody tr th {\n",
       "        vertical-align: top;\n",
       "    }\n",
       "\n",
       "    .dataframe thead th {\n",
       "        text-align: right;\n",
       "    }\n",
       "</style>\n",
       "<table border=\"1\" class=\"dataframe\">\n",
       "  <thead>\n",
       "    <tr style=\"text-align: right;\">\n",
       "      <th></th>\n",
       "      <th>Recency</th>\n",
       "      <th>Frequency</th>\n",
       "      <th>Monetary</th>\n",
       "    </tr>\n",
       "    <tr>\n",
       "      <th>OverallScore</th>\n",
       "      <th></th>\n",
       "      <th></th>\n",
       "      <th></th>\n",
       "    </tr>\n",
       "  </thead>\n",
       "  <tbody>\n",
       "    <tr>\n",
       "      <th>0</th>\n",
       "      <td>1370.075792</td>\n",
       "      <td>1.000000</td>\n",
       "      <td>2.820024e+06</td>\n",
       "    </tr>\n",
       "    <tr>\n",
       "      <th>1</th>\n",
       "      <td>1361.531192</td>\n",
       "      <td>1.156425</td>\n",
       "      <td>4.425209e+06</td>\n",
       "    </tr>\n",
       "    <tr>\n",
       "      <th>2</th>\n",
       "      <td>1353.940360</td>\n",
       "      <td>1.389720</td>\n",
       "      <td>5.113174e+06</td>\n",
       "    </tr>\n",
       "    <tr>\n",
       "      <th>3</th>\n",
       "      <td>1344.233979</td>\n",
       "      <td>1.550175</td>\n",
       "      <td>6.114558e+06</td>\n",
       "    </tr>\n",
       "    <tr>\n",
       "      <th>4</th>\n",
       "      <td>1344.688818</td>\n",
       "      <td>2.640246</td>\n",
       "      <td>1.098594e+07</td>\n",
       "    </tr>\n",
       "    <tr>\n",
       "      <th>5</th>\n",
       "      <td>1339.309771</td>\n",
       "      <td>2.464449</td>\n",
       "      <td>1.108106e+07</td>\n",
       "    </tr>\n",
       "    <tr>\n",
       "      <th>6</th>\n",
       "      <td>1337.602020</td>\n",
       "      <td>5.032323</td>\n",
       "      <td>3.061728e+07</td>\n",
       "    </tr>\n",
       "    <tr>\n",
       "      <th>7</th>\n",
       "      <td>1336.830986</td>\n",
       "      <td>6.436620</td>\n",
       "      <td>1.623004e+08</td>\n",
       "    </tr>\n",
       "    <tr>\n",
       "      <th>8</th>\n",
       "      <td>1339.285714</td>\n",
       "      <td>7.142857</td>\n",
       "      <td>3.080998e+08</td>\n",
       "    </tr>\n",
       "  </tbody>\n",
       "</table>\n",
       "</div>"
      ],
      "text/plain": [
       "                  Recency  Frequency      Monetary\n",
       "OverallScore                                      \n",
       "0             1370.075792   1.000000  2.820024e+06\n",
       "1             1361.531192   1.156425  4.425209e+06\n",
       "2             1353.940360   1.389720  5.113174e+06\n",
       "3             1344.233979   1.550175  6.114558e+06\n",
       "4             1344.688818   2.640246  1.098594e+07\n",
       "5             1339.309771   2.464449  1.108106e+07\n",
       "6             1337.602020   5.032323  3.061728e+07\n",
       "7             1336.830986   6.436620  1.623004e+08\n",
       "8             1339.285714   7.142857  3.080998e+08"
      ]
     },
     "execution_count": 48,
     "metadata": {},
     "output_type": "execute_result"
    }
   ],
   "source": [
    "#calculate overall score and use mean() to see details\n",
    "df['OverallScore'] = df['RecencyCluster'] + df['FrequencyCluster'] + df['MonetaryCluster']\n",
    "df.groupby('OverallScore')['Recency','Frequency','Monetary'].mean()"
   ]
  },
  {
   "cell_type": "code",
   "execution_count": 49,
   "metadata": {},
   "outputs": [
    {
     "data": {
      "text/html": [
       "<div>\n",
       "<style scoped>\n",
       "    .dataframe tbody tr th:only-of-type {\n",
       "        vertical-align: middle;\n",
       "    }\n",
       "\n",
       "    .dataframe tbody tr th {\n",
       "        vertical-align: top;\n",
       "    }\n",
       "\n",
       "    .dataframe thead th {\n",
       "        text-align: right;\n",
       "    }\n",
       "</style>\n",
       "<table border=\"1\" class=\"dataframe\">\n",
       "  <thead>\n",
       "    <tr style=\"text-align: right;\">\n",
       "      <th></th>\n",
       "      <th>CUST_ID</th>\n",
       "      <th>SegmentCust</th>\n",
       "    </tr>\n",
       "  </thead>\n",
       "  <tbody>\n",
       "    <tr>\n",
       "      <th>0</th>\n",
       "      <td>CUS0000000</td>\n",
       "      <td>Low-Value</td>\n",
       "    </tr>\n",
       "    <tr>\n",
       "      <th>1</th>\n",
       "      <td>CUS0000008</td>\n",
       "      <td>Low-Value</td>\n",
       "    </tr>\n",
       "    <tr>\n",
       "      <th>2</th>\n",
       "      <td>CUS0000011</td>\n",
       "      <td>Mid-Value</td>\n",
       "    </tr>\n",
       "    <tr>\n",
       "      <th>3</th>\n",
       "      <td>CUS0000011</td>\n",
       "      <td>Mid-Value</td>\n",
       "    </tr>\n",
       "    <tr>\n",
       "      <th>4</th>\n",
       "      <td>CUS0000016</td>\n",
       "      <td>Low-Value</td>\n",
       "    </tr>\n",
       "    <tr>\n",
       "      <th>...</th>\n",
       "      <td>...</td>\n",
       "      <td>...</td>\n",
       "    </tr>\n",
       "    <tr>\n",
       "      <th>41794</th>\n",
       "      <td>CUS0031786</td>\n",
       "      <td>Low-Value</td>\n",
       "    </tr>\n",
       "    <tr>\n",
       "      <th>41795</th>\n",
       "      <td>CUS0033429</td>\n",
       "      <td>Low-Value</td>\n",
       "    </tr>\n",
       "    <tr>\n",
       "      <th>41796</th>\n",
       "      <td>CUS0033628</td>\n",
       "      <td>Low-Value</td>\n",
       "    </tr>\n",
       "    <tr>\n",
       "      <th>41797</th>\n",
       "      <td>CUS0006588</td>\n",
       "      <td>High-Value</td>\n",
       "    </tr>\n",
       "    <tr>\n",
       "      <th>41798</th>\n",
       "      <td>CUS0006588</td>\n",
       "      <td>High-Value</td>\n",
       "    </tr>\n",
       "  </tbody>\n",
       "</table>\n",
       "<p>41799 rows × 2 columns</p>\n",
       "</div>"
      ],
      "text/plain": [
       "          CUST_ID SegmentCust\n",
       "0      CUS0000000   Low-Value\n",
       "1      CUS0000008   Low-Value\n",
       "2      CUS0000011   Mid-Value\n",
       "3      CUS0000011   Mid-Value\n",
       "4      CUS0000016   Low-Value\n",
       "...           ...         ...\n",
       "41794  CUS0031786   Low-Value\n",
       "41795  CUS0033429   Low-Value\n",
       "41796  CUS0033628   Low-Value\n",
       "41797  CUS0006588  High-Value\n",
       "41798  CUS0006588  High-Value\n",
       "\n",
       "[41799 rows x 2 columns]"
      ]
     },
     "execution_count": 49,
     "metadata": {},
     "output_type": "execute_result"
    }
   ],
   "source": [
    "df['SegmentCust'] = 'Low-Value'\n",
    "df.loc[df['OverallScore']>2,'SegmentCust'] = 'Mid-Value' \n",
    "df.loc[df['OverallScore']>4,'SegmentCust'] = 'High-Value'\n",
    "df[['CUST_ID','SegmentCust']]"
   ]
  },
  {
   "cell_type": "code",
   "execution_count": 34,
   "metadata": {},
   "outputs": [],
   "source": [
    "cust = df[['CUST_ID','Recency','Frequency','Monetary','OverallScore']]\n",
    "#cust\n",
    "\n",
    "\n",
    "FM = df[['Monetary','Frequency','SegmentCust']]"
   ]
  },
  {
   "cell_type": "code",
   "execution_count": 35,
   "metadata": {},
   "outputs": [
    {
     "data": {
      "text/plain": [
       "SegmentCust\n",
       "High-Value     3109\n",
       "Low-Value     24976\n",
       "Mid-Value     13714\n",
       "Name: CUST_ID, dtype: int64"
      ]
     },
     "execution_count": 35,
     "metadata": {},
     "output_type": "execute_result"
    }
   ],
   "source": [
    "df.groupby('SegmentCust')['CUST_ID'].count()"
   ]
  },
  {
   "cell_type": "code",
   "execution_count": 36,
   "metadata": {},
   "outputs": [
    {
     "data": {
      "text/plain": [
       "Text(0.5, 1.0, 'Tỷ lệ số lượng khách hàng theo segment KH')"
      ]
     },
     "execution_count": 36,
     "metadata": {},
     "output_type": "execute_result"
    },
    {
     "data": {
      "image/png": "[encoded data removed]",
      "text/plain": [
       "<Figure size 576x576 with 1 Axes>"
      ]
     },
     "metadata": {},
     "output_type": "display_data"
    }
   ],
   "source": [
    "df.groupby('SegmentCust').CUST_ID.count().plot.pie(autopct = '%.2f%%', figsize = (8, 8))\n",
    "plt.title('Tỷ lệ số lượng khách hàng theo segment KH')"
   ]
  },
  {
   "cell_type": "code",
   "execution_count": 50,
   "metadata": {},
   "outputs": [
    {
     "name": "stdout",
     "output_type": "stream",
     "text": [
      "SegmentCust\n",
      "High-Value    5.764223e+10\n",
      "Low-Value     1.064578e+11\n",
      "Mid-Value     1.005122e+11\n",
      "Name: Monetary, dtype: float64\n"
     ]
    },
    {
     "data": {
      "text/plain": [
       "Text(0.5, 1.0, 'Tỷ lệ đóng góp vào doanh thu theo segment KH')"
      ]
     },
     "execution_count": 50,
     "metadata": {},
     "output_type": "execute_result"
    },
    {
     "data": {
      "image/png": "[encoded data removed]",
      "text/plain": [
       "<Figure size 576x576 with 1 Axes>"
      ]
     },
     "metadata": {},
     "output_type": "display_data"
    }
   ],
   "source": [
    "print(df.groupby('SegmentCust')['Monetary'].sum())\n",
    "df.groupby('SegmentCust').Monetary.sum().plot.pie(autopct = '%.2f%%', figsize = (8, 8))\n",
    "plt.title('Tỷ lệ đóng góp vào doanh thu theo segment KH')"
   ]
  },
  {
   "cell_type": "code",
   "execution_count": 38,
   "metadata": {},
   "outputs": [
    {
     "data": {
      "image/png": "[encoded data removed]",
      "text/plain": [
       "<Figure size 432x288 with 1 Axes>"
      ]
     },
     "metadata": {
      "needs_background": "light"
     },
     "output_type": "display_data"
    }
   ],
   "source": [
    "RF = df[['Recency','Frequency','SegmentCust']]\n",
    "sns.scatterplot(data=RF, x=\"Frequency\", y=\"Recency\", hue=\"SegmentCust\", s = 100, palette=\"Set2\")\n",
    "plt.show()"
   ]
  },
  {
   "cell_type": "code",
   "execution_count": 39,
   "metadata": {},
   "outputs": [
    {
     "data": {
      "image/png": "[encoded data removed]",
      "text/plain": [
       "<Figure size 432x288 with 1 Axes>"
      ]
     },
     "metadata": {
      "needs_background": "light"
     },
     "output_type": "display_data"
    }
   ],
   "source": [
    "RM = df[['Monetary','Recency','SegmentCust']]\n",
    "sns.scatterplot(data=RM, x=\"Recency\", y=\"Monetary\", hue=\"SegmentCust\", s = 100, palette=\"Set2\")\n",
    "plt.show()"
   ]
  },
  {
   "cell_type": "code",
   "execution_count": 40,
   "metadata": {},
   "outputs": [
    {
     "data": {
      "image/png": "[encoded data removed]",
      "text/plain": [
       "<Figure size 432x288 with 1 Axes>"
      ]
     },
     "metadata": {
      "needs_background": "light"
     },
     "output_type": "display_data"
    }
   ],
   "source": [
    "FM = df[['Monetary','Frequency','SegmentCust']]\n",
    "sns.scatterplot(data=FM, x=\"Frequency\", y=\"Monetary\", hue=\"SegmentCust\", s = 100, palette=\"Set2\")\n",
    "plt.show()"
   ]
  },
  {
   "cell_type": "code",
   "execution_count": null,
   "metadata": {},
   "outputs": [],
   "source": []
  }
 ],
 "metadata": {
  "kernelspec": {
   "display_name": "Python 3 (ipykernel)",
   "language": "python",
   "name": "python3"
  },
  "language_info": {
   "codemirror_mode": {
    "name": "ipython",
    "version": 3
   },
   "file_extension": ".py",
   "mimetype": "text/x-python",
   "name": "python",
   "nbconvert_exporter": "python",
   "pygments_lexer": "ipython3",
   "version": "3.9.7"
  }
 },
 "nbformat": 4,
 "nbformat_minor": 4
}
